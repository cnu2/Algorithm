{
 "cells": [
  {
   "cell_type": "code",
   "execution_count": 6,
   "metadata": {},
   "outputs": [
    {
     "name": "stdout",
     "output_type": "stream",
     "text": [
      "color\n",
      "<re.Match object; span=(0, 5), match='color'>\n"
     ]
    }
   ],
   "source": [
    "# 정규표현식 라이브러리\n",
    "import re\n",
    "\n",
    "wordlist = [\"color\", \"colour\", \"work\", \"working\",\n",
    "            \"fox\", \"worker\", \"working\"]\n",
    "\n",
    "for word in wordlist:\n",
    "    if re.search('col.r', word): \n",
    "        # 'col.r'는 'col' 다음에 어떤 문자 하나(.)와 일치하고, 그 뒤에 'r'이 오는 패턴을 의미합니다.\n",
    "        # re.search() 함수는 주어진 패턴과 일치하는 부분이 문자열 어디에든 처음으로 등장하는 경우, 일치하는 객체(Match 객체)를 반환합니다.\n",
    "        # 일치하는 부분이 없으면 None을 반환합니다.\n",
    "        print(word)\n",
    "        print(re.search('col.r', word))"
   ]
  },
  {
   "cell_type": "code",
   "execution_count": 2,
   "metadata": {},
   "outputs": [
    {
     "name": "stdout",
     "output_type": "stream",
     "text": [
      "32\n",
      "(0, 32)\n",
      "<html><head><title>Title</title>\n"
     ]
    }
   ],
   "source": [
    "regular_expressions = '<html><head><title>Title</title>'\n",
    "print(len(regular_expressions))\n",
    "\n",
    "# 주어진 문자열의 시작이 '<'로 시작하고, 그 뒤에 어떤 문자열이 0개 이상 나오며, 마지막으로 '>'로 끝나는지를 검사합니다.\n",
    "# span()은 일치하는 부분 문자열의 시작과 끝 인덱스를 반환하는 메서드입니다.\n",
    "print(re.match('<.*>', regular_expressions).span())\n",
    "\n",
    "# group()은 정규 표현식 패턴과 일치하는 부분 문자열을 반환하는 메서드입니다. \n",
    "print(re.match('<.*>', regular_expressions).group())\n"
   ]
  },
  {
   "cell_type": "code",
   "execution_count": 3,
   "metadata": {},
   "outputs": [],
   "source": [
    "# case 1_1\n",
    "\n",
    "'''\n",
    "re.compile() 함수는 정규 표현식을 컴파일하는 함수입니다. 이를 사용하여 패턴을 정의하고, 나중에 재사용할 수 있습니다.\n",
    "여기서는 re.VERBOSE 플래그를 사용하여 정규 표현식을 보기 쉽게 만들었습니다. \n",
    "re.VERBOSE 플래그를 지정하면, 패턴을 작성할 때 공백과 주석을 사용할 수 있습니다. 이를 통해 정규 표현식을 가독성있게 작성할 수 있습니다.\n",
    "'''\n",
    "\n",
    "phone = re.compile(\"\"\"\n",
    "010-    # 핸드폰 앞자리 \n",
    "\\d{4}-  # 중간자리\n",
    "\\d{4}  # 뒷자리\n",
    "\"\"\", re.VERBOSE)"
   ]
  },
  {
   "cell_type": "code",
   "execution_count": 4,
   "metadata": {},
   "outputs": [],
   "source": [
    "# case 1_2\n",
    "# 패턴 정의\n",
    "phone = re.compile(\"010-\\d{4}-\\d{4}\")"
   ]
  },
  {
   "cell_type": "code",
   "execution_count": 5,
   "metadata": {},
   "outputs": [
    {
     "name": "stdout",
     "output_type": "stream",
     "text": [
      "010-1234-1234\n",
      "010-5678-5679\n"
     ]
    }
   ],
   "source": [
    "# case 1_3\n",
    "info = ['홍길동 010-1234-1234', '고길동 010-5678-5679']\n",
    "\n",
    "for text in info:\n",
    "    match_object = phone.search(text)\n",
    "    print(match_object.group())"
   ]
  },
  {
   "cell_type": "code",
   "execution_count": 7,
   "metadata": {},
   "outputs": [
    {
     "name": "stdout",
     "output_type": "stream",
     "text": [
      "Hello\n",
      "     Hello\n"
     ]
    }
   ],
   "source": [
    "print(\"     \\rHello\")\n",
    "print(\"     Hello\")"
   ]
  },
  {
   "cell_type": "code",
   "execution_count": 8,
   "metadata": {},
   "outputs": [
    {
     "name": "stdout",
     "output_type": "stream",
     "text": [
      "002\n",
      "50000\n",
      "00123\n",
      "aa123\n"
     ]
    }
   ],
   "source": [
    "# \"002\"\n",
    "print(\"2\".rjust(3,\"0\"))\n",
    " \n",
    "# \"50000\"\n",
    "print(\"50000\".rjust(5,\"0\"))\n",
    " \n",
    "# \"00123\"\n",
    "print(\"123\".rjust(5,\"0\"))\n",
    " \n",
    "# \"aa123\"\n",
    "print(\"123\".rjust(5,\"a\"))"
   ]
  },
  {
   "cell_type": "code",
   "execution_count": 9,
   "metadata": {},
   "outputs": [
    {
     "name": "stdout",
     "output_type": "stream",
     "text": [
      "002\n",
      "50000\n",
      "00123\n"
     ]
    }
   ],
   "source": [
    "# \"002\"\n",
    "print(\"2\".zfill(3))\n",
    " \n",
    "# \"50000\"\n",
    "print(\"50000\".zfill(5))\n",
    " \n",
    "# \"00123\"\n",
    "print(\"123\".zfill(5))"
   ]
  },
  {
   "cell_type": "code",
   "execution_count": 10,
   "metadata": {},
   "outputs": [
    {
     "name": "stdout",
     "output_type": "stream",
     "text": [
      "Hello, I am Jack and I am a data scientist\n",
      "e\n"
     ]
    }
   ],
   "source": [
    "string_ = \"Hello, I am Jack and I am a data scientist\"\n",
    "print(string_)\n",
    "print(string_[1])"
   ]
  },
  {
   "cell_type": "code",
   "execution_count": 11,
   "metadata": {},
   "outputs": [
    {
     "data": {
      "text/plain": [
       "['Hello,', 'I', 'am', 'Jack', 'and', 'I', 'am', 'a', 'data', 'scientist']"
      ]
     },
     "execution_count": 11,
     "metadata": {},
     "output_type": "execute_result"
    }
   ],
   "source": [
    "# 빈칸을 기준으로 spilt\n",
    "string_list = string_.split(\" \")\n",
    "string_list"
   ]
  },
  {
   "cell_type": "code",
   "execution_count": 12,
   "metadata": {},
   "outputs": [
    {
     "data": {
      "text/plain": [
       "True"
      ]
     },
     "execution_count": 12,
     "metadata": {},
     "output_type": "execute_result"
    }
   ],
   "source": [
    "string_.startswith('Hello')\n"
   ]
  },
  {
   "cell_type": "code",
   "execution_count": 13,
   "metadata": {},
   "outputs": [
    {
     "data": {
      "text/plain": [
       "True"
      ]
     },
     "execution_count": 13,
     "metadata": {},
     "output_type": "execute_result"
    }
   ],
   "source": [
    "string_.endswith('scientist')\n"
   ]
  },
  {
   "cell_type": "code",
   "execution_count": 14,
   "metadata": {},
   "outputs": [
    {
     "data": {
      "text/plain": [
       "True"
      ]
     },
     "execution_count": 14,
     "metadata": {},
     "output_type": "execute_result"
    }
   ],
   "source": [
    "string_.endswith('tist')\n"
   ]
  },
  {
   "cell_type": "code",
   "execution_count": 15,
   "metadata": {},
   "outputs": [
    {
     "name": "stdout",
     "output_type": "stream",
     "text": [
      "Hello, I am John and I am a data scientist\n",
      "Hello, I am Jack and I am a data scientist\n"
     ]
    }
   ],
   "source": [
    "# Jack에 해당하는걸 John으로 대체\n",
    "print(string_.replace(\"Jack\", \"John\"))\n",
    "print(string_)"
   ]
  },
  {
   "cell_type": "code",
   "execution_count": 16,
   "metadata": {},
   "outputs": [
    {
     "data": {
      "text/plain": [
       "{'apple', 'banana', 'cherry'}"
      ]
     },
     "execution_count": 16,
     "metadata": {},
     "output_type": "execute_result"
    }
   ],
   "source": [
    "fruits = {\"apple\", \"banana\", \"cherry\"}\n",
    "fruits_copy = fruits.copy()\n",
    "fruits_copy"
   ]
  },
  {
   "cell_type": "code",
   "execution_count": 17,
   "metadata": {},
   "outputs": [
    {
     "name": "stdout",
     "output_type": "stream",
     "text": [
      "{'b': 4, 'c': 8}\n",
      "{'b': 4, 'c': 8}\n"
     ]
    }
   ],
   "source": [
    "a = {'a': 5, 'b': 4, 'c': 8}\n",
    "b = a\n",
    "del b['a']\n",
    "print(b)\n",
    "print(a)"
   ]
  },
  {
   "cell_type": "code",
   "execution_count": 18,
   "metadata": {},
   "outputs": [
    {
     "name": "stdout",
     "output_type": "stream",
     "text": [
      "{'b': 4, 'c': 8}\n",
      "{'a': 5, 'b': 4, 'c': 8}\n"
     ]
    }
   ],
   "source": [
    "import copy\n",
    "a = {'a': 5, 'b': 4, 'c': 8}\n",
    "b = copy.copy(a)\n",
    "del b['a']\n",
    "print(b)\n",
    "print(a)"
   ]
  },
  {
   "cell_type": "code",
   "execution_count": 19,
   "metadata": {},
   "outputs": [
    {
     "name": "stdout",
     "output_type": "stream",
     "text": [
      "[[1, 2], [3, 4, 5]]\n",
      "[[1, 2], [3, 4]]\n",
      "[[1, 2], [3, 4, 5]]\n"
     ]
    }
   ],
   "source": [
    "import copy\n",
    "list_var = [[1,2],[3,4]]\n",
    "list_var_deepcopy = copy.deepcopy(list_var)\n",
    "list_var_copy = list_var.copy()\n",
    "\n",
    "list_var[1].append(5)\n",
    "\n",
    "print(list_var)  # 원래 변수\n",
    "\n",
    "print(list_var_deepcopy)  # deepcopy : append와 같은 메소드를 써도 값이 변경되지 않음\n",
    "\n",
    "print(list_var_copy)  # copy : 원본이 변경되었으므로 함께 변경됨\n"
   ]
  },
  {
   "cell_type": "code",
   "execution_count": 20,
   "metadata": {},
   "outputs": [
    {
     "name": "stdout",
     "output_type": "stream",
     "text": [
      "id\n",
      "first_name\n",
      "last_name\n",
      "email\n",
      "gender\n",
      "ip_address\n"
     ]
    }
   ],
   "source": [
    "# case 3\n",
    "mock_data = {\n",
    "  \"id\": 1,\n",
    "  \"first_name\": \"states\",\n",
    "  \"last_name\": \"code\",\n",
    "  \"email\": \"code@states.com\",\n",
    "  \"gender\": \"Female\",\n",
    "  \"ip_address\": \"123.123.123.23\"\n",
    "}\n",
    "\n",
    "for x in mock_data.keys():\n",
    "    print(x)"
   ]
  },
  {
   "cell_type": "code",
   "execution_count": 21,
   "metadata": {},
   "outputs": [
    {
     "name": "stdout",
     "output_type": "stream",
     "text": [
      "1\n",
      "states\n",
      "code\n",
      "code@states.com\n",
      "Female\n",
      "123.123.123.23\n"
     ]
    }
   ],
   "source": [
    "# case 4\n",
    "mock_data = {\n",
    "  \"id\": 1,\n",
    "  \"first_name\": \"states\",\n",
    "  \"last_name\": \"code\",\n",
    "  \"email\": \"code@states.com\",\n",
    "  \"gender\": \"Female\",\n",
    "  \"ip_address\": \"123.123.123.23\"\n",
    "}\n",
    "\n",
    "for x in mock_data.values():\n",
    "    print(x)"
   ]
  },
  {
   "cell_type": "code",
   "execution_count": 22,
   "metadata": {},
   "outputs": [
    {
     "name": "stdout",
     "output_type": "stream",
     "text": [
      "('id', 1)\n",
      "('first_name', 'states')\n",
      "('last_name', 'code')\n",
      "('email', 'code@states.com')\n",
      "('gender', 'Female')\n",
      "('ip_address', '123.123.123.23')\n",
      "id 1\n",
      "first_name states\n",
      "last_name code\n",
      "email code@states.com\n",
      "gender Female\n",
      "ip_address 123.123.123.23\n"
     ]
    }
   ],
   "source": [
    "# case 5 \n",
    "mock_data = {\n",
    "  \"id\": 1,\n",
    "  \"first_name\": \"states\",\n",
    "  \"last_name\": \"code\",\n",
    "  \"email\": \"code@states.com\",\n",
    "  \"gender\": \"Female\",\n",
    "  \"ip_address\": \"123.123.123.23\"\n",
    "}\n",
    "\n",
    "for x in mock_data.items():\n",
    "    print(x)\n",
    "\n",
    "for k,v in mock_data.items():\n",
    "    print(k,v)"
   ]
  },
  {
   "cell_type": "code",
   "execution_count": 23,
   "metadata": {},
   "outputs": [
    {
     "name": "stdout",
     "output_type": "stream",
     "text": [
      "[(1, 10), (2, 20), (3, 30), (4, 40), (5, 50)]\n"
     ]
    }
   ],
   "source": [
    "# zip 함수 활용\n",
    "a = [1,2,3,4,5]\n",
    "b = [10,20,30,40,50]\n",
    "c = zip(a,b)\n",
    "print(list(c))"
   ]
  },
  {
   "cell_type": "code",
   "execution_count": 24,
   "metadata": {},
   "outputs": [
    {
     "name": "stdout",
     "output_type": "stream",
     "text": [
      "1001,1008,1022,1029,1036,1043,1057,1064,1071,1078,1092,1099,1106,1113,1127,1134,1141,1148,1162,1169,1176,1183,1197,1204,1211,1218,1232,1239,1246,1253,1267,1274,1281,1288,1302,1309,1316,1323,1337,1344,1351,1358,1372,1379,1386,1393,1407,1414,1421,1428,1442,1449,1456,1463,1477,1484,1491,1498,1512,1519,1526,1533,1547,1554,1561,1568,1582,1589,1596,1603,1617,1624,1631,1638,1652,1659,1666,1673,1687,1694,1701,1708,1722,1729,1736,1743,1757,1764,1771,1778,1792,1799,1806,1813,1827,1834,1841,1848,1862,1869,1876,1883,1897,1904,1911,1918,1932,1939,1946,1953,1967,1974,1981,1988,2002,2009,2016,2023,2037,2044,2051,2058,2072,2079,2086,2093,2107,2114,2121,2128,2142,2149,2156,2163,2177,2184,2191,2198\n"
     ]
    }
   ],
   "source": [
    "my_list=[]\n",
    "for i in range(1000, 2200):\n",
    "    if (i%7==0) and (i%5!=0):\n",
    "        my_list.append(str(i))\n",
    "\n",
    "print(','.join(my_list))"
   ]
  },
  {
   "cell_type": "code",
   "execution_count": 25,
   "metadata": {},
   "outputs": [
    {
     "name": "stdout",
     "output_type": "stream",
     "text": [
      "['Vanilla', 'Chocolate', ['Strawberry', 'MintChocolate']]\n",
      "['Vanilla', 'Chocolate', 'Strawberry', 'MintChocolate']\n"
     ]
    }
   ],
   "source": [
    "# '리스트' 추가  \n",
    "flavors1 = ['Vanilla', 'Chocolate']\n",
    "flavors1.append(['Strawberry', 'MintChocolate'])\n",
    "print(flavors1)\n",
    "\n",
    "flavors2 = ['Vanilla', 'Chocolate']\n",
    "flavors2.extend(['Strawberry', 'MintChocolate'])\n",
    "print(flavors2)"
   ]
  },
  {
   "cell_type": "code",
   "execution_count": 26,
   "metadata": {},
   "outputs": [
    {
     "name": "stdout",
     "output_type": "stream",
     "text": [
      "['Vanilla', 'Chocolate', 'Strawberry', 'MintChocolate']\n",
      "['Vanilla', 'Chocolate', 'Strawberry', 'M', 'i', 'n', 't', 'C', 'h', 'o', 'c', 'o', 'l', 'a', 't', 'e']\n"
     ]
    }
   ],
   "source": [
    "# '문자열' 추가\n",
    "flavors3 = ['Vanilla', 'Chocolate','Strawberry']\n",
    "flavors3.append('MintChocolate')\n",
    "print(flavors3)\n",
    "\n",
    "flavors4 = ['Vanilla', 'Chocolate','Strawberry']\n",
    "flavors4.extend('MintChocolate')\n",
    "print(flavors4)"
   ]
  },
  {
   "cell_type": "code",
   "execution_count": 28,
   "metadata": {},
   "outputs": [
    {
     "name": "stdout",
     "output_type": "stream",
     "text": [
      "12\n",
      "4\n",
      "6\n",
      "[11, 43]\n"
     ]
    }
   ],
   "source": [
    "list1 = [11, 12, 43, 4, 6]\n",
    "for i in list1.copy():\n",
    "    if not i % 2: # 짝수면\n",
    "        list1.remove(i)\n",
    "print(list1)"
   ]
  },
  {
   "cell_type": "code",
   "execution_count": 29,
   "metadata": {},
   "outputs": [
    {
     "name": "stdout",
     "output_type": "stream",
     "text": [
      "[99, 2, 3, 4, 5]\n",
      "[2, 3, 4, 5]\n"
     ]
    }
   ],
   "source": [
    "my_list = [1, 2, 3, 4, 5]\n",
    "my_list[0] = 99\n",
    "print(my_list)\n",
    "\n",
    "del my_list[0]\n",
    "print(my_list)"
   ]
  },
  {
   "cell_type": "code",
   "execution_count": 30,
   "metadata": {},
   "outputs": [
    {
     "name": "stdout",
     "output_type": "stream",
     "text": [
      "[99, 2, 3, 4, 5]\n",
      "[99, 2, 3, 4]\n"
     ]
    }
   ],
   "source": [
    "my_list = [1, 2, 3, 4, 5]\n",
    "my_list[0] = 99\n",
    "print(my_list)\n",
    "\n",
    "my_list.pop()\n",
    "print(my_list)"
   ]
  },
  {
   "cell_type": "code",
   "execution_count": 31,
   "metadata": {},
   "outputs": [
    {
     "name": "stdout",
     "output_type": "stream",
     "text": [
      "Index for xyz :  0\n",
      "Index for ABC :  2\n"
     ]
    }
   ],
   "source": [
    "my_list = ['xyz', 'XYZ' 'abc', 'ABC']\n",
    "print(\"Index for xyz : \",  my_list.index( 'xyz' ))\n",
    "print(\"Index for ABC : \",  my_list.index( 'ABC' ))"
   ]
  },
  {
   "cell_type": "code",
   "execution_count": 32,
   "metadata": {},
   "outputs": [
    {
     "name": "stdout",
     "output_type": "stream",
     "text": [
      "Count for xyz :  1\n",
      "Count for ABC :  1\n"
     ]
    }
   ],
   "source": [
    "my_list = ['xyz', 'XYZ' 'abc', 'ABC']\n",
    "print(\"Count for xyz : \",  my_list.count( 'xyz' ))\n",
    "print(\"Count for ABC : \",  my_list.count( 'ABC' ))"
   ]
  },
  {
   "cell_type": "code",
   "execution_count": 33,
   "metadata": {},
   "outputs": [
    {
     "name": "stdout",
     "output_type": "stream",
     "text": [
      "4\n",
      "-1\n"
     ]
    }
   ],
   "source": [
    "import math\n",
    "def bin_search(li, element):\n",
    "    bottom = 0\n",
    "    top = len(li)-1\n",
    "    index = -1\n",
    "    while top >= bottom and index == -1:\n",
    "        mid = int(math.floor((top+bottom) / 2.0))\n",
    "        if li[mid] == element:\n",
    "            index = mid\n",
    "        elif li[mid] > element:\n",
    "            top = mid-1\n",
    "        else:\n",
    "            bottom = mid+1\n",
    "\n",
    "    return index\n",
    "\n",
    "li=[2,5,7,9,11,17,222]\n",
    "print(bin_search(li,11))\n",
    "print(bin_search(li,102))"
   ]
  },
  {
   "cell_type": "code",
   "execution_count": 34,
   "metadata": {},
   "outputs": [
    {
     "name": "stdout",
     "output_type": "stream",
     "text": [
      "88\n"
     ]
    }
   ],
   "source": [
    "li = [12,24,35,70,88,120]\n",
    "for (i,x) in enumerate(li):\n",
    "   if i not in (0,3,5):\n",
    "     li = x\n",
    "print(li)"
   ]
  },
  {
   "cell_type": "code",
   "execution_count": 35,
   "metadata": {},
   "outputs": [
    {
     "name": "stdout",
     "output_type": "stream",
     "text": [
      "[120, 10, 20, 30]\n"
     ]
    }
   ],
   "source": [
    "def list_update(data):\n",
    "    new_li=[]\n",
    "    new_set = set()\n",
    "    for item in data:\n",
    "        if item not in new_set:\n",
    "            new_set.add(item)\n",
    "            new_li.append(item)\n",
    "\n",
    "    return new_li\n",
    "\n",
    "list_test=[120,120,10,20,30,20]\n",
    "print(list_update(list_test))"
   ]
  },
  {
   "cell_type": "code",
   "execution_count": 36,
   "metadata": {},
   "outputs": [
    {
     "name": "stdout",
     "output_type": "stream",
     "text": [
      "1,1\n",
      "2,1\n",
      "3,1\n"
     ]
    }
   ],
   "source": [
    "dic = {}\n",
    "s=input()\n",
    "for s in s:\n",
    "    dic[s] = dic.get(s,0)+1\n",
    "print('\\n'.join(['%s,%s' % (k, v) for k, v in dic.items()]))"
   ]
  },
  {
   "cell_type": "code",
   "execution_count": 38,
   "metadata": {},
   "outputs": [
    {
     "name": "stdout",
     "output_type": "stream",
     "text": [
      "[1, 2, 3, 5]\n"
     ]
    }
   ],
   "source": [
    "my_list = [1,2,3,4,5]\n",
    "del my_list[3]\n",
    "print(my_list)"
   ]
  },
  {
   "cell_type": "code",
   "execution_count": 39,
   "metadata": {},
   "outputs": [
    {
     "name": "stdout",
     "output_type": "stream",
     "text": [
      "[1, 2, 4, 5] 3\n"
     ]
    }
   ],
   "source": [
    "my_list = [1,2,3,4,5]\n",
    "a = my_list.pop(2)\n",
    "print(my_list,a)"
   ]
  },
  {
   "cell_type": "code",
   "execution_count": 40,
   "metadata": {},
   "outputs": [
    {
     "name": "stdout",
     "output_type": "stream",
     "text": [
      "[1, 1, 2, 3, 4, 7, 8]\n"
     ]
    }
   ],
   "source": [
    "my_list = [1,7,2,4,8,1,3]\n",
    "my_list.sort()\n",
    "print(my_list)"
   ]
  },
  {
   "cell_type": "code",
   "execution_count": 41,
   "metadata": {},
   "outputs": [
    {
     "name": "stdout",
     "output_type": "stream",
     "text": [
      "my_list: [1, 7, 2, 4, 8, 1, 3]\n",
      "sorted_my_list: [1, 1, 2, 3, 4, 7, 8]\n"
     ]
    }
   ],
   "source": [
    "my_list = [1,7,2,4,8,1,3]\n",
    "sorted_my_list = sorted(my_list)\n",
    "\n",
    "print(f'my_list: {my_list}')\n",
    "print(f'sorted_my_list: {sorted_my_list}')"
   ]
  },
  {
   "cell_type": "code",
   "execution_count": 42,
   "metadata": {},
   "outputs": [
    {
     "name": "stdout",
     "output_type": "stream",
     "text": [
      "call_result_call_result_call_result_call_result_call_result_\n"
     ]
    }
   ],
   "source": [
    "# 함수정의\n",
    "define_word = (lambda word1,define :  word1 * define)\n",
    "\n",
    "# 함수호출\n",
    "result = define_word('call_result_',5)\n",
    "\n",
    "# 결과출력\n",
    "print(result)"
   ]
  },
  {
   "cell_type": "code",
   "execution_count": 45,
   "metadata": {},
   "outputs": [
    {
     "name": "stdout",
     "output_type": "stream",
     "text": [
      "['test1!!!', 'test2!!!', 'test4 test5!!!', 'test3!!!']\n",
      "(<function <lambda> at 0x7feb91a95820>, ['test1', 'test2', 'test4 test5', 'test3'])\n"
     ]
    }
   ],
   "source": [
    "# 리스트 생성\n",
    "spelling = [\"test1\", \"test2\", \"test4 test5\", \"test3\"]\n",
    "\n",
    "# 람다함수적용\n",
    "shout_spells = map(lambda item : item + ('!!!'), spelling)\n",
    "\n",
    "# 리스트형태로 변환\n",
    "shout_spells_list = list(shout_spells)\n",
    "\n",
    "# 결과출력\n",
    "print(shout_spells_list)"
   ]
  },
  {
   "cell_type": "code",
   "execution_count": 46,
   "metadata": {},
   "outputs": [
    {
     "name": "stdout",
     "output_type": "stream",
     "text": [
      "robbsansaaryabrandonrickon\n"
     ]
    }
   ],
   "source": [
    "# functools 모듈 사용\n",
    "from functools import reduce\n",
    "\n",
    "# 리스트 생성\n",
    "stark = ['robb', 'sansa', 'arya', 'brandon', 'rickon']\n",
    "\n",
    "# 람다함수적용\n",
    "result = reduce(lambda item1, item2 : item1+item2, stark)\n",
    "\n",
    "# 결과출력\n",
    "print(result)"
   ]
  },
  {
   "cell_type": "code",
   "execution_count": 47,
   "metadata": {},
   "outputs": [
    {
     "name": "stdout",
     "output_type": "stream",
     "text": [
      "['samwise', 'aragorn', 'boromir', 'legolas', 'gandalf']\n"
     ]
    }
   ],
   "source": [
    "# 리스트 생성\n",
    "fellowship = ['frodo', 'samwise', 'merry', 'pippin', 'aragorn', 'boromir', 'legolas', 'gimli', 'gandalf']\n",
    "\n",
    "# 람다함수적용\n",
    "result = filter(lambda member : len(member) > 6, fellowship)\n",
    "\n",
    "# 리스트형태로 변환\n",
    "result_list = list(result)\n",
    "\n",
    "# 결과출력\n",
    "print(result_list)"
   ]
  },
  {
   "cell_type": "code",
   "execution_count": 48,
   "metadata": {},
   "outputs": [
    {
     "name": "stdout",
     "output_type": "stream",
     "text": [
      "[1, 4, 9, 16]\n"
     ]
    }
   ],
   "source": [
    "numbers = [1, 2, 3, 4]\n",
    "squares = []\n",
    "\n",
    "for n in numbers:\n",
    "    squares.append(n**2)\n",
    "\n",
    "print(squares) "
   ]
  },
  {
   "cell_type": "code",
   "execution_count": 49,
   "metadata": {},
   "outputs": [
    {
     "name": "stdout",
     "output_type": "stream",
     "text": [
      "[1, 4, 9, 16]\n"
     ]
    }
   ],
   "source": [
    "numbers = [1, 2, 3, 4]\n",
    "squares = [n**2 for n in numbers]\n",
    "\n",
    "print(squares) "
   ]
  },
  {
   "cell_type": "code",
   "execution_count": 50,
   "metadata": {},
   "outputs": [
    {
     "data": {
      "text/plain": [
       "50000"
      ]
     },
     "execution_count": 50,
     "metadata": {},
     "output_type": "execute_result"
    }
   ],
   "source": [
    "def disneyland():\n",
    "    try:\n",
    "        age = int(input(\"나이를 입력해주세요: \"))\n",
    "    except:\n",
    "        print(\"숫자로 나이를 입력해주세요.\")\n",
    "    else:\n",
    "        # 3세 미만은 공짜\n",
    "        if age < 3:\n",
    "            fee = 0\n",
    "        # 3세~9세: 50,000\n",
    "        elif age >= 3 and age < 10:\n",
    "            fee = 50000\n",
    "        else:\n",
    "            fee = 100000\n",
    "        return fee\n",
    "\n",
    "disneyland()"
   ]
  },
  {
   "cell_type": "code",
   "execution_count": 52,
   "metadata": {},
   "outputs": [
    {
     "name": "stdout",
     "output_type": "stream",
     "text": [
      "디즈니 랜드에 오신 것을 환영합니다~!\n"
     ]
    },
    {
     "data": {
      "text/plain": [
       "50000"
      ]
     },
     "execution_count": 52,
     "metadata": {},
     "output_type": "execute_result"
    }
   ],
   "source": [
    "def disneyland():\n",
    "    try:\n",
    "        age = int(input(\"나이를 입력해주세요: \"))\n",
    "    except ValueError as e:\n",
    "        print(\"숫자로 나이를 입력해주세요.\")\n",
    "        print(e)\n",
    "    else:\n",
    "        # 3세 미만은 공짜\n",
    "        if age < 3:\n",
    "            fee = 0\n",
    "        # 3세~9세: 50,000\n",
    "        elif age >= 3 and age < 10:\n",
    "            fee = 50000\n",
    "        else:\n",
    "            fee = 100000\n",
    "        return fee\n",
    "    finally:\n",
    "        print(\"디즈니 랜드에 오신 것을 환영합니다~!\")\n",
    "\n",
    "disneyland()"
   ]
  },
  {
   "cell_type": "code",
   "execution_count": 53,
   "metadata": {},
   "outputs": [
    {
     "name": "stdout",
     "output_type": "stream",
     "text": [
      "--------Car Object Create Complete--------\n",
      "Car Speed:  0\n",
      "Car Color:  green\n",
      "Car Model:  testCar\n",
      "--------Bus Object Create Complete--------\n",
      "Bus color:  black\n",
      "--------Car/Bus Speed 1--------\n",
      "Car Speed by drive:  0\n",
      "Bus Speed by drive:  0\n",
      "--------Car/Bus Speed 2--------\n",
      "Car Speed by drive:  50\n",
      "Bus Speed by drive:  70\n"
     ]
    }
   ],
   "source": [
    "# OOP / 기능에 따라 Car클래스 안에 있는 함수와 변수만 추가해주면 된다.\n",
    "# 아래와 같이 클래스 선언 순서에 관계없이 실행된다.\n",
    "# 절차 프로그래밍과 다르게 기능별로 수행되기 때문이다.\n",
    "class Bus:\n",
    "    def __init__(self, speed, color):\n",
    "        self.speed = speed\n",
    "        self.color = color\n",
    "\n",
    "    def drive_bus(self):\n",
    "        self.speed = 70\n",
    "\n",
    "class Car:\n",
    "    def __init__(self, speed, color, model):\n",
    "        self.speed = speed\n",
    "        self.color = color\n",
    "        self.model = model\n",
    "\n",
    "    def drive(self):\n",
    "        self.speed = 50\n",
    "\n",
    "myCar = Car(0, \"green\", \"testCar\")\n",
    "print(\"--------Car Object Create Complete--------\")\n",
    "print(\"Car Speed: \", myCar.speed)\n",
    "print(\"Car Color: \", myCar.color)\n",
    "print(\"Car Model: \", myCar.model)\n",
    "\n",
    "myBus = Bus(0, 'black')\n",
    "print(\"--------Bus Object Create Complete--------\")\n",
    "print(\"Bus color: \", myBus.color)\n",
    "\n",
    "\n",
    "# 운전 중이 아니므로 speed는 0을 출력한다.\n",
    "print(\"--------Car/Bus Speed 1--------\")\n",
    "print(\"Car Speed by drive: \", myCar.speed)\n",
    "print(\"Bus Speed by drive: \", myBus.speed)\n",
    "\n",
    "# Car/Bus object method Call\n",
    "myCar.drive()\n",
    "myBus.drive_bus()\n",
    "\n",
    "# 각각의 개체가 각자의 속도로 움직이고 있다.\n",
    "print(\"--------Car/Bus Speed 2--------\")\n",
    "print(\"Car Speed by drive: \", myCar.speed)\n",
    "print(\"Bus Speed by drive: \", myBus.speed)"
   ]
  },
  {
   "cell_type": "code",
   "execution_count": 54,
   "metadata": {},
   "outputs": [
    {
     "name": "stdout",
     "output_type": "stream",
     "text": [
      "<class 'int'>\n",
      "<class 'str'>\n",
      "<class 'list'>\n",
      "<class 'dict'>\n"
     ]
    }
   ],
   "source": [
    "# 아래 코드의 실행 결과를 확인한다.\n",
    "num_data = 7\n",
    "str_data = 'AIBootcamp'\n",
    "list_data = [1,2,3]\n",
    "dict_data = {'a':1, 'b':2}\n",
    "\n",
    "print(type(num_data))\n",
    "print(type(str_data))\n",
    "print(type(list_data))\n",
    "print(type(dict_data))"
   ]
  },
  {
   "cell_type": "code",
   "execution_count": 55,
   "metadata": {},
   "outputs": [
    {
     "name": "stdout",
     "output_type": "stream",
     "text": [
      "Help on class int in module builtins:\n",
      "\n",
      "class int(object)\n",
      " |  int([x]) -> integer\n",
      " |  int(x, base=10) -> integer\n",
      " |  \n",
      " |  Convert a number or string to an integer, or return 0 if no arguments\n",
      " |  are given.  If x is a number, return x.__int__().  For floating point\n",
      " |  numbers, this truncates towards zero.\n",
      " |  \n",
      " |  If x is not a number or if base is given, then x must be a string,\n",
      " |  bytes, or bytearray instance representing an integer literal in the\n",
      " |  given base.  The literal can be preceded by '+' or '-' and be surrounded\n",
      " |  by whitespace.  The base defaults to 10.  Valid bases are 0 and 2-36.\n",
      " |  Base 0 means to interpret the base from the string as an integer literal.\n",
      " |  >>> int('0b100', base=0)\n",
      " |  4\n",
      " |  \n",
      " |  Built-in subclasses:\n",
      " |      bool\n",
      " |  \n",
      " |  Methods defined here:\n",
      " |  \n",
      " |  __abs__(self, /)\n",
      " |      abs(self)\n",
      " |  \n",
      " |  __add__(self, value, /)\n",
      " |      Return self+value.\n",
      " |  \n",
      " |  __and__(self, value, /)\n",
      " |      Return self&value.\n",
      " |  \n",
      " |  __bool__(self, /)\n",
      " |      self != 0\n",
      " |  \n",
      " |  __ceil__(...)\n",
      " |      Ceiling of an Integral returns itself.\n",
      " |  \n",
      " |  __divmod__(self, value, /)\n",
      " |      Return divmod(self, value).\n",
      " |  \n",
      " |  __eq__(self, value, /)\n",
      " |      Return self==value.\n",
      " |  \n",
      " |  __float__(self, /)\n",
      " |      float(self)\n",
      " |  \n",
      " |  __floor__(...)\n",
      " |      Flooring an Integral returns itself.\n",
      " |  \n",
      " |  __floordiv__(self, value, /)\n",
      " |      Return self//value.\n",
      " |  \n",
      " |  __format__(self, format_spec, /)\n",
      " |      Default object formatter.\n",
      " |  \n",
      " |  __ge__(self, value, /)\n",
      " |      Return self>=value.\n",
      " |  \n",
      " |  __getattribute__(self, name, /)\n",
      " |      Return getattr(self, name).\n",
      " |  \n",
      " |  __getnewargs__(self, /)\n",
      " |  \n",
      " |  __gt__(self, value, /)\n",
      " |      Return self>value.\n",
      " |  \n",
      " |  __hash__(self, /)\n",
      " |      Return hash(self).\n",
      " |  \n",
      " |  __index__(self, /)\n",
      " |      Return self converted to an integer, if self is suitable for use as an index into a list.\n",
      " |  \n",
      " |  __int__(self, /)\n",
      " |      int(self)\n",
      " |  \n",
      " |  __invert__(self, /)\n",
      " |      ~self\n",
      " |  \n",
      " |  __le__(self, value, /)\n",
      " |      Return self<=value.\n",
      " |  \n",
      " |  __lshift__(self, value, /)\n",
      " |      Return self<<value.\n",
      " |  \n",
      " |  __lt__(self, value, /)\n",
      " |      Return self<value.\n",
      " |  \n",
      " |  __mod__(self, value, /)\n",
      " |      Return self%value.\n",
      " |  \n",
      " |  __mul__(self, value, /)\n",
      " |      Return self*value.\n",
      " |  \n",
      " |  __ne__(self, value, /)\n",
      " |      Return self!=value.\n",
      " |  \n",
      " |  __neg__(self, /)\n",
      " |      -self\n",
      " |  \n",
      " |  __or__(self, value, /)\n",
      " |      Return self|value.\n",
      " |  \n",
      " |  __pos__(self, /)\n",
      " |      +self\n",
      " |  \n",
      " |  __pow__(self, value, mod=None, /)\n",
      " |      Return pow(self, value, mod).\n",
      " |  \n",
      " |  __radd__(self, value, /)\n",
      " |      Return value+self.\n",
      " |  \n",
      " |  __rand__(self, value, /)\n",
      " |      Return value&self.\n",
      " |  \n",
      " |  __rdivmod__(self, value, /)\n",
      " |      Return divmod(value, self).\n",
      " |  \n",
      " |  __repr__(self, /)\n",
      " |      Return repr(self).\n",
      " |  \n",
      " |  __rfloordiv__(self, value, /)\n",
      " |      Return value//self.\n",
      " |  \n",
      " |  __rlshift__(self, value, /)\n",
      " |      Return value<<self.\n",
      " |  \n",
      " |  __rmod__(self, value, /)\n",
      " |      Return value%self.\n",
      " |  \n",
      " |  __rmul__(self, value, /)\n",
      " |      Return value*self.\n",
      " |  \n",
      " |  __ror__(self, value, /)\n",
      " |      Return value|self.\n",
      " |  \n",
      " |  __round__(...)\n",
      " |      Rounding an Integral returns itself.\n",
      " |      Rounding with an ndigits argument also returns an integer.\n",
      " |  \n",
      " |  __rpow__(self, value, mod=None, /)\n",
      " |      Return pow(value, self, mod).\n",
      " |  \n",
      " |  __rrshift__(self, value, /)\n",
      " |      Return value>>self.\n",
      " |  \n",
      " |  __rshift__(self, value, /)\n",
      " |      Return self>>value.\n",
      " |  \n",
      " |  __rsub__(self, value, /)\n",
      " |      Return value-self.\n",
      " |  \n",
      " |  __rtruediv__(self, value, /)\n",
      " |      Return value/self.\n",
      " |  \n",
      " |  __rxor__(self, value, /)\n",
      " |      Return value^self.\n",
      " |  \n",
      " |  __sizeof__(self, /)\n",
      " |      Returns size in memory, in bytes.\n",
      " |  \n",
      " |  __sub__(self, value, /)\n",
      " |      Return self-value.\n",
      " |  \n",
      " |  __truediv__(self, value, /)\n",
      " |      Return self/value.\n",
      " |  \n",
      " |  __trunc__(...)\n",
      " |      Truncating an Integral returns itself.\n",
      " |  \n",
      " |  __xor__(self, value, /)\n",
      " |      Return self^value.\n",
      " |  \n",
      " |  as_integer_ratio(self, /)\n",
      " |      Return integer ratio.\n",
      " |      \n",
      " |      Return a pair of integers, whose ratio is exactly equal to the original int\n",
      " |      and with a positive denominator.\n",
      " |      \n",
      " |      >>> (10).as_integer_ratio()\n",
      " |      (10, 1)\n",
      " |      >>> (-10).as_integer_ratio()\n",
      " |      (-10, 1)\n",
      " |      >>> (0).as_integer_ratio()\n",
      " |      (0, 1)\n",
      " |  \n",
      " |  bit_length(self, /)\n",
      " |      Number of bits necessary to represent self in binary.\n",
      " |      \n",
      " |      >>> bin(37)\n",
      " |      '0b100101'\n",
      " |      >>> (37).bit_length()\n",
      " |      6\n",
      " |  \n",
      " |  conjugate(...)\n",
      " |      Returns self, the complex conjugate of any int.\n",
      " |  \n",
      " |  to_bytes(self, /, length, byteorder, *, signed=False)\n",
      " |      Return an array of bytes representing an integer.\n",
      " |      \n",
      " |      length\n",
      " |        Length of bytes object to use.  An OverflowError is raised if the\n",
      " |        integer is not representable with the given number of bytes.\n",
      " |      byteorder\n",
      " |        The byte order used to represent the integer.  If byteorder is 'big',\n",
      " |        the most significant byte is at the beginning of the byte array.  If\n",
      " |        byteorder is 'little', the most significant byte is at the end of the\n",
      " |        byte array.  To request the native byte order of the host system, use\n",
      " |        `sys.byteorder' as the byte order value.\n",
      " |      signed\n",
      " |        Determines whether two's complement is used to represent the integer.\n",
      " |        If signed is False and a negative integer is given, an OverflowError\n",
      " |        is raised.\n",
      " |  \n",
      " |  ----------------------------------------------------------------------\n",
      " |  Class methods defined here:\n",
      " |  \n",
      " |  from_bytes(bytes, byteorder, *, signed=False) from builtins.type\n",
      " |      Return the integer represented by the given array of bytes.\n",
      " |      \n",
      " |      bytes\n",
      " |        Holds the array of bytes to convert.  The argument must either\n",
      " |        support the buffer protocol or be an iterable object producing bytes.\n",
      " |        Bytes and bytearray are examples of built-in objects that support the\n",
      " |        buffer protocol.\n",
      " |      byteorder\n",
      " |        The byte order used to represent the integer.  If byteorder is 'big',\n",
      " |        the most significant byte is at the beginning of the byte array.  If\n",
      " |        byteorder is 'little', the most significant byte is at the end of the\n",
      " |        byte array.  To request the native byte order of the host system, use\n",
      " |        `sys.byteorder' as the byte order value.\n",
      " |      signed\n",
      " |        Indicates whether two's complement is used to represent the integer.\n",
      " |  \n",
      " |  ----------------------------------------------------------------------\n",
      " |  Static methods defined here:\n",
      " |  \n",
      " |  __new__(*args, **kwargs) from builtins.type\n",
      " |      Create and return a new object.  See help(type) for accurate signature.\n",
      " |  \n",
      " |  ----------------------------------------------------------------------\n",
      " |  Data descriptors defined here:\n",
      " |  \n",
      " |  denominator\n",
      " |      the denominator of a rational number in lowest terms\n",
      " |  \n",
      " |  imag\n",
      " |      the imaginary part of a complex number\n",
      " |  \n",
      " |  numerator\n",
      " |      the numerator of a rational number in lowest terms\n",
      " |  \n",
      " |  real\n",
      " |      the real part of a complex number\n",
      "\n"
     ]
    }
   ],
   "source": [
    "help('int')"
   ]
  },
  {
   "cell_type": "code",
   "execution_count": 56,
   "metadata": {},
   "outputs": [
    {
     "name": "stdout",
     "output_type": "stream",
     "text": [
      "init: 10\n",
      "init: 20\n",
      "set: 20\n",
      "printTest: 20\n",
      "\n",
      "\n",
      "init: 30\n",
      "set: 30\n",
      "printTest: 30\n"
     ]
    }
   ],
   "source": [
    "# 캡슐화코드\n",
    "class Encap:\n",
    "    def __init__(self,value):\n",
    "        self.value = value\n",
    "        print('init:', self.value)\n",
    "\n",
    "    def _set(self):\n",
    "        print('set:', self.value)\n",
    "\n",
    "    def printTest(self):\n",
    "        print('printTest:', self.value)\n",
    "\n",
    "    def __printTest2(self):\n",
    "        print('printTest:', self.value)\n",
    "\n",
    "# object 생성\n",
    "e = Encap(10)\n",
    "\n",
    "# object 실행 \n",
    "# 케이스1\n",
    "e.__init__(20)\n",
    "e._set()\n",
    "e.printTest()\n",
    "# e.__printTest2()\n",
    "print('\\n')\n",
    "\n",
    "# 케이스2\n",
    "e.__init__(30)\n",
    "e._set()\n",
    "e.printTest()"
   ]
  },
  {
   "cell_type": "code",
   "execution_count": 57,
   "metadata": {},
   "outputs": [
    {
     "name": "stdout",
     "output_type": "stream",
     "text": [
      "This duck has a bill object and a tail object.\n"
     ]
    }
   ],
   "source": [
    "# 포함코드\n",
    "class Bill():\n",
    "    def __init__(self, description):\n",
    "        self.description = description\n",
    "\n",
    "class Tail():\n",
    "    def __init__(self, length):\n",
    "        self.length = length\n",
    "\n",
    "class Duck():\n",
    "    def __init__(self, bill, tail):\n",
    "        self.bill = bill\n",
    "        self.tail = tail\n",
    "\n",
    "    def about(self):\n",
    "        print(f\"This duck has a {self.bill.description} and a {self.tail.length}.\")\n",
    "\n",
    "# object 생성\n",
    "duck = Duck(Bill('bill object'), Tail('tail object'))\n",
    "\n",
    "# object 실행\n",
    "duck.about()"
   ]
  },
  {
   "cell_type": "code",
   "execution_count": 58,
   "metadata": {},
   "outputs": [
    {
     "name": "stdout",
     "output_type": "stream",
     "text": [
      "s.age: Dave\n",
      "s.age: 20\n",
      "s.id: 1\n",
      "\\n\n",
      "s2.age: Jamie\n",
      "s2.age: 25\n",
      "s2.id: 2\n",
      "\\n\n",
      "-- test score result --\n",
      "Person_printPerson Dave 20\n",
      "Jamie needs supplementary lessons\n"
     ]
    }
   ],
   "source": [
    "# 포함코드\n",
    "\n",
    "# 클래스 선언\n",
    "class Person:\n",
    "    def __init__(self, name, age):\n",
    "        self.name = name\n",
    "        self.age = age\n",
    "\n",
    "    def printPerson(self, name, age):\n",
    "        print('Person_printPerson', name, age)\n",
    "\n",
    "class Student:\n",
    "    def __init__(self, name, age, id):\n",
    "        self.person = Person(name,age)\n",
    "        Person.__init__(self, name, age)\n",
    "        self.id = id\n",
    "\n",
    "    def test(self, score):\n",
    "        if score > 80:\n",
    "            return (self.person.printPerson(self.name, self.age))\n",
    "        else:\n",
    "            print (self.name + \" needs supplementary lessons\")\n",
    "\n",
    "\n",
    "# object 생성\n",
    "# 한 번 생성된 object는 파라미터가 변하지 않는 이상 출력값 또한 변하지 않는다.\n",
    "s = Student(\"Dave\", 20, 1)\n",
    "\n",
    "# object 실행\n",
    "print(\"s.age:\", s.name)   # result : Dave\n",
    "print(\"s.age:\", s.age)   # result : 20\n",
    "print(\"s.id:\", s.id)   # result : 1\n",
    "print('\\\\n')\n",
    "\n",
    "# 객체 하나 더 생성하기\n",
    "s2 = Student(\"Jamie\", 25, 2)\n",
    "print(\"s2.age:\", s2.name)   # result : Jamie\n",
    "print(\"s2.age:\", s2.age)   # result : 25\n",
    "print(\"s2.id:\", s2.id)   # result : 2\n",
    "print('\\\\n')\n",
    "\n",
    "# 점수입력\n",
    "print('-- test score result --')\n",
    "s.test(90)\n",
    "s2.test(11)"
   ]
  },
  {
   "cell_type": "code",
   "execution_count": 59,
   "metadata": {},
   "outputs": [
    {
     "name": "stdout",
     "output_type": "stream",
     "text": [
      "Student: \n",
      "체력: 10\n",
      "지능: 100\n",
      "100\n"
     ]
    }
   ],
   "source": [
    "# 추상클래스로 선언해놓고 상속받는 클래스에서 구현하지 않으면 오류 발생\n",
    "from abc import ABCMeta, abstractmethod\n",
    "\n",
    "# 추상 클래스\n",
    "class People(metaclass=ABCMeta):\n",
    "    # 추상 메소드\n",
    "    @abstractmethod\n",
    "    def character(self):\n",
    "        pass\n",
    "\n",
    "    def working(self):\n",
    "        pass\n",
    "  \n",
    "# 상속받는 클래스\n",
    "class Student(People):\n",
    "    def character(self, pow, int):\n",
    "        self.pow = pow\n",
    "        self.int = int\n",
    "\n",
    "        print('체력: {0}'.format(self.pow))\n",
    "        print('지능: {0}'.format(self.int))\n",
    "\n",
    "# 상속받는 클래스 2 : character 추상 메소드 구현 하지 않음\n",
    "class Driver(People):\n",
    "    def working(self):\n",
    "        print('일하는 중')\n",
    "\n",
    "# Student object 생성 \n",
    "s1 = Student()\n",
    "print('Student: ')\n",
    "\n",
    "# Student object 실행\n",
    "s1.character(10, 100)\n",
    "print(s1.int)\n",
    "\n",
    "# Driver object 생성\n",
    "# d1 = Driver()\n",
    "# 이 코드는 추상 메소드로 선언했던 character를 구현해주지 않았기 때문에 오류가 발생합니다!"
   ]
  },
  {
   "cell_type": "code",
   "execution_count": 60,
   "metadata": {},
   "outputs": [],
   "source": [
    "class Slimes:\n",
    "    def __init__(self):\n",
    "        self.hp = 100\n",
    "        self.attack_power = 50\n",
    "    def get_damage(self):\n",
    "        self.hp -= self.attack_power\n",
    "        if self.hp <= 0:\n",
    "            self.hp = 0\n",
    "            print('Slime is dead!!!')\n",
    "\n",
    "class Slime_Yellow(Slimes):\n",
    "    pass\n",
    "\n",
    "class Slime_Blue(Slimes):\n",
    "    def __init__(self):\n",
    "        super().__init__()\n",
    "        self.attack_power = int(self.attack_power * 0.8)\n",
    "    def get_damage(self):\n",
    "        self.hp -= self.attack_power\n",
    "        if self.hp <= 0:\n",
    "            self.hp = 0\n",
    "            print('Blue Slime is dead!!! You get 100 Gold')\n",
    "\n",
    "\n",
    "class Slime_Purple(Slimes):\n",
    "    def __init__(self):\n",
    "        super().__init__()\n",
    "        self.attack_power = int(self.attack_power * 0.5)\n",
    "    def get_damage(self):\n",
    "        self.hp -= self.attack_power\n",
    "        if self.hp <= 0:\n",
    "            self.hp = 0\n",
    "            print('Purple Slime is dead!!!, You get 300 Gold')"
   ]
  },
  {
   "cell_type": "code",
   "execution_count": 61,
   "metadata": {},
   "outputs": [
    {
     "name": "stdout",
     "output_type": "stream",
     "text": [
      "100\n",
      "Slime_1 hp: 50\n",
      "Slime is dead!!!\n",
      "Slime_1 hp: 0\n"
     ]
    }
   ],
   "source": [
    "Slime_1 = Slime_Yellow()\n",
    "# 슬라임 제거하기: hp=0 만들기\n",
    "print(Slime_1.hp)\n",
    "Slime_1.get_damage()\n",
    "print('Slime_1 hp:', Slime_1.hp)\n",
    "Slime_1.get_damage()\n",
    "print('Slime_1 hp:',Slime_1.hp)"
   ]
  },
  {
   "cell_type": "code",
   "execution_count": 62,
   "metadata": {},
   "outputs": [
    {
     "name": "stdout",
     "output_type": "stream",
     "text": [
      "Slime_2 hp: 60\n",
      "Slime_2 hp: 20\n",
      "Blue Slime is dead!!! You get 100 Gold\n",
      "Slime_2 hp: 0\n"
     ]
    }
   ],
   "source": [
    "Slime_2 = Slime_Blue()\n",
    "# 슬라임 제거하기: hp=0 만들기\n",
    "Slime_2.get_damage()\n",
    "print('Slime_2 hp:',Slime_2.hp)\n",
    "Slime_2.get_damage()\n",
    "print('Slime_2 hp:',Slime_2.hp)\n",
    "Slime_2.get_damage()\n",
    "print('Slime_2 hp:',Slime_2.hp)"
   ]
  },
  {
   "cell_type": "code",
   "execution_count": 63,
   "metadata": {},
   "outputs": [],
   "source": [
    "# 연결리스트의 노드를 저장하는 첫 단계\n",
    "class Node:\n",
    "    def __init__(self, value, next=None):\n",
    "        self.value = value  # 노드의 값을 나타내는 value\n",
    "        self.next = next  # 노드의 다음위치를 가리키는 next의 초기값은 None\n",
    "\n",
    "class linked_list:\n",
    "    def __init__(self, value):\n",
    "        self.head = Node(value) # 초기 클래스에 head노드선언\n",
    "\n",
    "    def add_node(value):\n",
    "        print('head.value:', head.value)\n",
    "        print('head.next:', head.next)\n",
    "        node = head           # 첫번째 위치에 해당하는 head를 생성하고, node 변수에 저장해둔다.\n",
    "        while node.next:      # 마지막 노드의 값을 찾기 위한 while 문\n",
    "            node = node.next  # 노드의 next가 있을 경우 node를 node.next로 업데이트 해준다.\n",
    "\n",
    "        # 아래의 node는 연결리스트의 마지막 노드의 값을 가리키고,\n",
    "        # 해당 노드의 next에 새로운 노드를 추가해준다.\n",
    "        node.next = Node(value)"
   ]
  },
  {
   "cell_type": "code",
   "execution_count": 64,
   "metadata": {},
   "outputs": [
    {
     "name": "stdout",
     "output_type": "stream",
     "text": [
      "head.value: 5\n",
      "head.next: None\n",
      "head.value: 5\n",
      "head.next: <__main__.Node object at 0x7feb91ae0580>\n",
      "5\n",
      "11\n",
      "17\n"
     ]
    }
   ],
   "source": [
    "# 연결리스트의 노드값들에 대해서 봐보자.\n",
    "head = Node(5)    # head노드에 값 5를 저장\n",
    "linked_list.add_node(11) # 값 11을 추가\n",
    "linked_list.add_node(17) # 값 17을 추가\n",
    "\n",
    "print(head.value) # head노드의 값은 5\n",
    "print(head.next.value) # head노드의 다음위치노드의 값은 11\n",
    "print(head.next.next.value) # head노드의 다음위치노드의 다음값은 17"
   ]
  },
  {
   "cell_type": "code",
   "execution_count": 65,
   "metadata": {},
   "outputs": [
    {
     "name": "stdout",
     "output_type": "stream",
     "text": [
      "3\n",
      "4\n",
      "5\n",
      "6\n"
     ]
    }
   ],
   "source": [
    "# 리스트를 연결해보자.\n",
    "node1 = Node(3)\n",
    "node2 = Node(4)\n",
    "node3 = Node(5)\n",
    "node4 = Node(6)\n",
    "\n",
    "node1.next = node2\n",
    "node2.next = node3\n",
    "node3.next = node4\n",
    "\n",
    "node = node1        # 첫번째노드부터 시작한다.\n",
    "while node:         # 노드별로 반복문을 수행\n",
    "    print(node.value) \n",
    "    node = node.next  # 다음노드를 현재노드에 저장하면서 위치를 바꾼다."
   ]
  },
  {
   "cell_type": "code",
   "execution_count": 77,
   "metadata": {},
   "outputs": [],
   "source": [
    "# 클래스에 연결리스트 구현\n",
    "class Node:\n",
    "    def __init__(self, value):\n",
    "        self.value = value\n",
    "        self.next = None\n",
    "\n",
    "class linked_list:\n",
    "    def __init__(self, value):\n",
    "        self.head = Node(value)\n",
    "\n",
    "    def add_node(self, value):\n",
    "        if self.head == None:\n",
    "            self.head = Node(value)\n",
    "        else:\n",
    "            node = self.head\n",
    "            while node.next:\n",
    "                node = node.next\n",
    "            node.next = Node(value) # init함수의 value\n",
    "\n",
    "    # 연결리스트의 삭제구현\n",
    "    # 아래의 주석을 참고하여 연결리스트의 삭제연산을 직접 구현해보자.\n",
    "    def del_node(self, value):\n",
    "        # 해당 값에 대한 노드는 없는 경우\n",
    "        if self.head == None:\n",
    "            # 의미없는 조건에서 함수는 아무것도 반환하지 않는다.\n",
    "            pass\n",
    "            \n",
    "        # 헤드 밸류가 내가 찾는 값일 경우\n",
    "        elif self.head.value == value:\n",
    "            # 헤드노드의 값을 임시저장하고\n",
    "            # 헤드노드 다음의 값을 헤드노드로 지정한 뒤\n",
    "            # 임시저장한 값을 제거한다.\n",
    "            temp = self.head.value\n",
    "            self.head = self.head.next\n",
    "            temp = None\n",
    "\n",
    "        # 연결리스트에 노드가 있고 헤드 밸류가 내가 찾는 값이 아닐 경우\n",
    "        else:\n",
    "            # 노드에 헤드노드를 설정한다.\n",
    "            node = self.head\n",
    "            # node.next가 None이 아닐때까지 아래 반복문을 실행한다.\n",
    "            while node.next:\n",
    "                # 노드의 다음값이 내가 찾는 값일 경우\n",
    "                if node.next.value == value:\n",
    "                    # 헤드노드의 다음 밸류를 임시저장하고\n",
    "                    # 헤드노드의 다음 밸류를 그 다음 밸류값으로 넣고\n",
    "                    # 임시 저장한 값을 삭제한다.\n",
    "                    temp = node.next.value\n",
    "                    node.next = node.next.next\n",
    "                    temp = None\n",
    "                    \n",
    "                # 노드의 다음값이 내가 찾는 값이 아닐 경우\n",
    "                else: \n",
    "                    node = node.next\n",
    "                    # 그 다음 노드를 탐색하기 위한 작업을 해준다.\n",
    "\n",
    "    # 연결리스트의 노드출력을 위한 기능\n",
    "    def ord_desc(self):\n",
    "        node = self.head\n",
    "        while node:\n",
    "            print(node.value)\n",
    "            node = node.next  "
   ]
  },
  {
   "cell_type": "code",
   "execution_count": 68,
   "metadata": {},
   "outputs": [
    {
     "name": "stdout",
     "output_type": "stream",
     "text": [
      "0\n"
     ]
    }
   ],
   "source": [
    "# 노드출력 테스트\n",
    "linkedlist = linked_list(0)\n",
    "linkedlist.ord_desc()"
   ]
  },
  {
   "cell_type": "code",
   "execution_count": 69,
   "metadata": {},
   "outputs": [
    {
     "name": "stdout",
     "output_type": "stream",
     "text": [
      "0\n",
      "1\n",
      "2\n",
      "3\n",
      "4\n",
      "5\n",
      "6\n",
      "7\n",
      "8\n",
      "9\n"
     ]
    }
   ],
   "source": [
    "# 노드 삽입 테스트\n",
    "for value in range(1, 10):\n",
    "    linkedlist.add_node(value)\n",
    "linkedlist.ord_desc()"
   ]
  },
  {
   "cell_type": "code",
   "execution_count": 70,
   "metadata": {},
   "outputs": [
    {
     "data": {
      "text/plain": [
       "<__main__.Node at 0x7feb91ae03d0>"
      ]
     },
     "execution_count": 70,
     "metadata": {},
     "output_type": "execute_result"
    }
   ],
   "source": [
    "linkedlist.head\n"
   ]
  },
  {
   "cell_type": "code",
   "execution_count": 71,
   "metadata": {},
   "outputs": [
    {
     "name": "stdout",
     "output_type": "stream",
     "text": [
      "test1 ---------\n"
     ]
    }
   ],
   "source": [
    "# 노드삭제 테스트 1\n",
    "print('test1 ---------')\n",
    "linkedlist = linked_list(0) # 노드 초기값 설정\n",
    "linkedlist.del_node(0)  # 노드삭제\n",
    "linkedlist.del_node(0)  # 노드삭제\n",
    "linkedlist.ord_desc()"
   ]
  },
  {
   "cell_type": "code",
   "execution_count": 74,
   "metadata": {},
   "outputs": [
    {
     "name": "stdout",
     "output_type": "stream",
     "text": [
      "test2 ---------\n",
      "1\n"
     ]
    }
   ],
   "source": [
    "# 노드삭제 테스트 2\n",
    "print('test2 ---------')\n",
    "linkedlist = linked_list(0) # 노드 초기값 설정\n",
    "linkedlist.add_node(1)\n",
    "linkedlist.del_node(0)  # 노드삭제\n",
    "linkedlist.ord_desc()"
   ]
  },
  {
   "cell_type": "code",
   "execution_count": 78,
   "metadata": {},
   "outputs": [
    {
     "name": "stdout",
     "output_type": "stream",
     "text": [
      "test3 ---------\n",
      "0\n",
      "1\n",
      "2\n",
      "4\n"
     ]
    }
   ],
   "source": [
    "# 노드삭제 테스트 3\n",
    "print('test3 ---------')\n",
    "linkedlist = linked_list(0) # 노드 초기값 설정\n",
    "for value in range(1,5):\n",
    "    linkedlist.add_node(value)\n",
    "linkedlist.del_node(3)  # 노드삭제\n",
    "linkedlist.ord_desc()"
   ]
  },
  {
   "cell_type": "code",
   "execution_count": 79,
   "metadata": {},
   "outputs": [],
   "source": [
    "# 클래스에 연결리스트 구현\n",
    "class Node:\n",
    "    def __init__(self, value):\n",
    "        self.value = value\n",
    "        self.next = None\n",
    "\n",
    "class linked_list:\n",
    "    def __init__(self, value):\n",
    "        self.head = Node(value)\n",
    "\n",
    "    def add_node(self, value):\n",
    "        if self.head == None:\n",
    "            self.head = Node(value)\n",
    "        else:\n",
    "            node = self.head\n",
    "            while node.next:\n",
    "                node = node.next\n",
    "            node.next = Node(value) # init함수의 value\n",
    "\n",
    "    # 연결리스트의 삭제구현\n",
    "    # 아래의 주석을 참고하여 연결리스트의 삭제연산을 직접 구현해보자.\n",
    "    def del_node(self, value):\n",
    "        # 해당 값에 대한 노드는 없는 경우\n",
    "        if self.head == None:\n",
    "            # 의미없는 조건에서 함수는 아무것도 반환하지 않는다.\n",
    "            pass\n",
    "            \n",
    "        # 헤드 밸류가 내가 찾는 값일 경우\n",
    "        elif self.head.value == value:\n",
    "            # 헤드노드의 값을 임시저장하고\n",
    "            # 헤드노드 다음의 값을 헤드노드로 지정한 뒤\n",
    "            # 임시저장한 값을 제거한다.\n",
    "            temp = self.head.value\n",
    "            self.head = self.head.next\n",
    "            temp = None\n",
    "\n",
    "        # 연결리스트에 노드가 있고 헤드 밸류가 내가 찾는 값이 아닐 경우\n",
    "        else:\n",
    "            # 노드에 헤드노드를 설정한다.\n",
    "            node = self.head\n",
    "            # node.next가 None이 아닐때까지 아래 반복문을 실행한다.\n",
    "            while node.next:\n",
    "                # 노드의 다음값이 내가 찾는 값일 경우\n",
    "                if node.next.value == value:\n",
    "                    # 헤드노드의 다음 밸류를 임시저장하고\n",
    "                    # 헤드노드의 다음 밸류를 그 다음 밸류값으로 넣고\n",
    "                    # 임시 저장한 값을 삭제한다.\n",
    "                    temp = node.next.value\n",
    "                    node.next = node.next.next\n",
    "                    temp = None\n",
    "                    \n",
    "                # 노드의 다음값이 내가 찾는 값이 아닐 경우\n",
    "                else: \n",
    "                    node = node.next\n",
    "                    # 그 다음 노드를 탐색하기 위한 작업을 해준다.\n",
    "\n",
    "    # 연결리스트의 노드출력을 위한 기능\n",
    "    def ord_desc(self):\n",
    "        node = self.head\n",
    "        while node:\n",
    "            print(node.value)\n",
    "            node = node.next  \n",
    "    \n",
    "    # 연결리스트 검색함수\n",
    "    def search_node(self, value):\n",
    "        # 노드에 헤드노드를 설정한다.\n",
    "        node = self.head\n",
    "        # 노드가 있는 경우 아래 작업을 반복한다.\n",
    "        while node:\n",
    "        # 노드의 값이 현재 값과 같은 경우\n",
    "            if node.value == value:\n",
    "            # 노드를 반환한다.\n",
    "                return node\n",
    "        # 노드의 값이 다른 경우\n",
    "            else:\n",
    "                # 다른 노드의 위치를 현재 노드에 넣어준다.\n",
    "                node = node.next\n"
   ]
  },
  {
   "cell_type": "code",
   "execution_count": 80,
   "metadata": {},
   "outputs": [
    {
     "name": "stdout",
     "output_type": "stream",
     "text": [
      "0\n",
      "1\n",
      "2\n",
      "3\n",
      "4\n",
      "5\n",
      "6\n",
      "7\n",
      "8\n",
      "9\n",
      "10\n"
     ]
    }
   ],
   "source": [
    "linkedlist = linked_list(0) # 연결리스트 초기화\n",
    "\n",
    "# 연결리스트에 노드 다시 추가\n",
    "for value in range(1,11):\n",
    "    linkedlist.add_node(value)\n",
    "linkedlist.ord_desc()"
   ]
  },
  {
   "cell_type": "code",
   "execution_count": 85,
   "metadata": {},
   "outputs": [],
   "source": [
    "# 4라는 값을 갖고 있는 노드를 연결리스트에서 검색해보자.\n",
    "node = linkedlist.search_node(4)\n",
    "print(node.value)\n",
    "print(node.next.value)      # 4 다음 값 검색"
   ]
  },
  {
   "cell_type": "code",
   "execution_count": null,
   "metadata": {},
   "outputs": [],
   "source": []
  }
 ],
 "metadata": {
  "kernelspec": {
   "display_name": "cp1",
   "language": "python",
   "name": "python3"
  },
  "language_info": {
   "codemirror_mode": {
    "name": "ipython",
    "version": 3
   },
   "file_extension": ".py",
   "mimetype": "text/x-python",
   "name": "python",
   "nbconvert_exporter": "python",
   "pygments_lexer": "ipython3",
   "version": "3.8.16"
  },
  "orig_nbformat": 4
 },
 "nbformat": 4,
 "nbformat_minor": 2
}
